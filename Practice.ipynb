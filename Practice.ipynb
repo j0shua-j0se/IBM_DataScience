{
  "metadata": {
    "kernelspec": {
      "name": "python",
      "display_name": "Python (Pyodide)",
      "language": "python"
    },
    "language_info": {
      "codemirror_mode": {
        "name": "python",
        "version": 3
      },
      "file_extension": ".py",
      "mimetype": "text/x-python",
      "name": "python",
      "nbconvert_exporter": "python",
      "pygments_lexer": "ipython3",
      "version": "3.8"
    }
  },
  "nbformat_minor": 4,
  "nbformat": 4,
  "cells": [
    {
      "cell_type": "markdown",
      "source": "# Peer-graded Assignment: Submit Your Work and Grade Your Peers",
      "metadata": {}
    },
    {
      "cell_type": "markdown",
      "source": "## Introduction\nThis notebook will cover the basics of data science.\nThis course introduced you to multiple data science tools, and in this final project, you will use Jupyterlite Notebook, one of the easiest tools to share publicly. \nLeveraging Jupyterlite Notebook on Skills Network labs, you will create your Jupyterlite Notebook (in English) and share it via a public GitHub link.",
      "metadata": {}
    },
    {
      "cell_type": "markdown",
      "source": "## Data Science Languages\n1. Python\n2. R\n3. SQL",
      "metadata": {}
    },
    {
      "cell_type": "markdown",
      "source": "## Data Science Libraries\n1. Pandas\n2. NumPy\n3. Matplotlib\n",
      "metadata": {}
    },
    {
      "cell_type": "markdown",
      "source": "## Data Science Tools\n\n| Tool | Use |\n| --- | --- |\n| Jupyter Notebook | Interactive coding and documentation |\n| Anaconda | Package management |\n| PyCharm | Python IDE |\n",
      "metadata": {}
    },
    {
      "cell_type": "markdown",
      "source": "## Arithmetic Expressions\nHere are some examples of arithmetic expressions:\n1. Addition: `3 + 4`\n2. Subtraction: `10 - 5`\n3. Multiplication: `2 * 6`\n4. Division: `8 / 2`\n",
      "metadata": {}
    },
    {
      "cell_type": "markdown",
      "source": "## Multiplication",
      "metadata": {}
    },
    {
      "cell_type": "code",
      "source": "product = 3 * 4\nprint(f\"The product of 3 and 4 is {product}\")",
      "metadata": {
        "trusted": true
      },
      "outputs": [
        {
          "name": "stdout",
          "text": "The product of 3 and 4 is 12\n",
          "output_type": "stream"
        }
      ],
      "execution_count": 1
    },
    {
      "cell_type": "markdown",
      "source": "## Addition",
      "metadata": {}
    },
    {
      "cell_type": "code",
      "source": "sum = 5 + 6\nprint(f\"The sum of 5 and 6 is {sum}\")",
      "metadata": {
        "trusted": true
      },
      "outputs": [
        {
          "name": "stdout",
          "text": "The sum of 5 and 6 is 11\n",
          "output_type": "stream"
        }
      ],
      "execution_count": 2
    },
    {
      "cell_type": "markdown",
      "source": "## Conversion",
      "metadata": {}
    },
    {
      "cell_type": "code",
      "source": "minutes = 120\nhours = minutes / 60\nprint(f\"{minutes} minutes is equal to {hours} hours\")",
      "metadata": {
        "jp-MarkdownHeadingCollapsed": true,
        "trusted": true
      },
      "outputs": [
        {
          "name": "stdout",
          "text": "120 minutes is equal to 2.0 hours\n",
          "output_type": "stream"
        }
      ],
      "execution_count": 3
    },
    {
      "cell_type": "markdown",
      "source": "## Objectives\n1. Learn the basics of data science.\n2. Understand how to use Jupyter notebooks.\n3. Get familiar with Python libraries for data science.\n",
      "metadata": {}
    },
    {
      "cell_type": "markdown",
      "source": "## Author\nJoshua Jose",
      "metadata": {}
    },
    {
      "cell_type": "code",
      "source": "",
      "metadata": {
        "trusted": true
      },
      "outputs": [],
      "execution_count": null
    }
  ]
}